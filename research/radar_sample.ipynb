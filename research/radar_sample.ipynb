{
 "cells": [
  {
   "cell_type": "code",
   "execution_count": null,
   "metadata": {},
   "outputs": [],
   "source": [
    "# radar_sample.ipynb - crm 2019\n",
    "# credentialize and gather track audio features for all public playlists of users listed in users.txt\n",
    "# by requesting JSON or loading from today's .npz directory\n",
    "# remove loudness and tempo, calculate means and save plot as .png\n",
    "import sys\n",
    "import os\n",
    "import datetime\n",
    "import logging\n",
    "\n",
    "import numpy as np\n",
    "import matplotlib.pyplot as plt\n",
    "\n",
    "# add pkg path\n",
    "sys.path.insert(0, os.path.dirname(os.path.abspath('../polka/polka')))\n",
    "import core\n",
    "from radaraxes import radar_factory\n",
    "\n",
    "# info level from notebook, debug level from CLI\n",
    "logging.basicConfig(level=os.environ.get(\"LOGLEVEL\", \"INFO\"))\n",
    "logger = logging.getLogger(\"ipynb_rs\")"
   ]
  },
  {
   "cell_type": "code",
   "execution_count": null,
   "metadata": {},
   "outputs": [],
   "source": [
    "date_str = datetime.datetime.now().strftime(\"%Y%m%d\")\n",
    "data_dir = \"dat/public\"\n",
    "npz_dir = os.path.join(data_dir, date_str + \"/\")\n",
    "list_path = os.path.join(data_dir, \"users.txt\")\n",
    "img_path = os.path.join(npz_dir, 'radar.png')"
   ]
  },
  {
   "cell_type": "code",
   "execution_count": null,
   "metadata": {},
   "outputs": [],
   "source": [
    "# client credentials for public data\n",
    "sp = core.do_auth()"
   ]
  },
  {
   "cell_type": "code",
   "execution_count": null,
   "metadata": {},
   "outputs": [],
   "source": [
    "# fetch_user_list(sp, _input_username_list, output_data_dir)\n",
    "user_list = core.fetch_user_list(sp, list_path, npz_dir)"
   ]
  },
  {
   "cell_type": "code",
   "execution_count": null,
   "metadata": {},
   "outputs": [],
   "source": [
    "# compute and stack float averages for feature set of each user\n",
    "np_af_mean_flt = np.vstack([np.mean(user.np_af_flt, axis=0) for user in user_list])\n",
    "\n",
    "# drop loudness and tempo\n",
    "np_af_mean_flt = np.delete(np_af_mean_flt, [5, 8], 1)\n",
    "\n",
    "# build plots\n",
    "N = len(np_af_mean_flt[0])\n",
    "theta = radar_factory(N, frame='polygon')\n",
    "\n",
    "spoke_labels = ['Acousticness', 'Danceability', 'Energy', 'Instrumentalness',\n",
    "                'Liveness', 'Speechiness', 'Valence']\n",
    "title = \"Users' Public Playlists' Tracks' Audio Features Average\"\n",
    "case_data = np_af_mean_flt\n",
    "\n",
    "fig, ax = plt.subplots(figsize=(6, 6), subplot_kw=dict(projection='radar'))\n",
    "fig.subplots_adjust(top=0.85, bottom=0.05)\n",
    "\n",
    "ax.set_rgrids([])\n",
    "ax.set_title(title,  position=(0.5, 1.1), ha='center')\n",
    "\n",
    "for d in case_data:\n",
    "    line = ax.plot(theta, d)\n",
    "    ax.fill(theta, d,  alpha=0.25)\n",
    "ax.set_varlabels(spoke_labels)\n",
    "\n",
    "# username legend tuple\n",
    "usernames = [''.join(user.username) for user in user_list]\n",
    "plt.gca().legend(usernames, bbox_to_anchor=(0.6, 0.3))\n",
    "\n",
    "# plot to file\n",
    "plt.savefig(img_path)"
   ]
  }
 ],
 "metadata": {
  "kernelspec": {
   "display_name": "Python 3",
   "language": "python",
   "name": "python3"
  },
  "language_info": {
   "codemirror_mode": {
    "name": "ipython",
    "version": 3
   },
   "file_extension": ".py",
   "mimetype": "text/x-python",
   "name": "python",
   "nbconvert_exporter": "python",
   "pygments_lexer": "ipython3",
   "version": "3.7.3"
  }
 },
 "nbformat": 4,
 "nbformat_minor": 4
}
