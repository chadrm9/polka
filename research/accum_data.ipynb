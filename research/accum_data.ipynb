{
 "cells": [
  {
   "cell_type": "code",
   "execution_count": null,
   "metadata": {},
   "outputs": [],
   "source": [
    "# accum_data.ipynb - crm 2019\n",
    "# accumulate tracks dataset for use as train/test classifier data\n",
    "import sys\n",
    "import os\n",
    "import datetime\n",
    "import logging\n",
    "\n",
    "import pandas as pd\n",
    "import seaborn as sns\n",
    "\n",
    "# add pkg path\n",
    "sys.path.insert(0, os.path.dirname(os.path.abspath('../polka/polka')))\n",
    "import core\n",
    "\n",
    "# info level from notebook, debug level from CLI\n",
    "logging.basicConfig(level=os.environ.get(\"LOGLEVEL\", \"INFO\"))\n",
    "logger = logging.getLogger(\"ipynb_ad\")\n",
    "\n",
    "date_str = datetime.datetime.now().strftime(\"%Y%m%d\")\n",
    "\n",
    "# username authorization for private data\n",
    "sp = core.do_auth(\"chadrm9\")"
   ]
  },
  {
   "cell_type": "code",
   "execution_count": null,
   "metadata": {},
   "outputs": [],
   "source": [
    "# weekly copy (Discover Weekly updates every Monday)\n",
    "core.copy_tracks(sp, \"chadrm9\", [\"Discover Weekly\"], \"DW\" + date_str)"
   ]
  },
  {
   "cell_type": "code",
   "execution_count": null,
   "metadata": {},
   "outputs": [],
   "source": [
    "# weekly copy (Release Radar updates every Friday)\n",
    "core.copy_tracks(sp, \"chadrm9\", [\"Release Radar\"], \"RR\" + date_str)"
   ]
  },
  {
   "cell_type": "code",
   "execution_count": null,
   "metadata": {},
   "outputs": [],
   "source": [
    "# compile public dataset (n=715)\n",
    "data_dir = \"dat/public\"\n",
    "npz_dir = os.path.join(data_dir, date_str + \"/\")\n",
    "list_path = os.path.join(data_dir, \"users.txt\")\n",
    "user_list = core.fetch_user_list(sp, list_path, npz_dir)\n",
    "core.aggr_user_tracks(sp, \"chadrm9\", user_list, \"test\")"
   ]
  },
  {
   "cell_type": "code",
   "execution_count": null,
   "metadata": {},
   "outputs": [],
   "source": [
    "# compile private dataset (n=1430)\n",
    "core.copy_tracks(sp, \"chadrm9\", [\"DW20190803\",\n",
    "                                 \"DW20190811\",\n",
    "                                 \"DW20190812\",\n",
    "                                 \"DW20190819\",\n",
    "                                 \"DW20190826\",\n",
    "                                 \"RR20190826\",\n",
    "                                 \"DW20190905\",\n",
    "                                 \"DW20190911\",\n",
    "                                 \"RR20190911\",\n",
    "                                 \"DW20190918\",\n",
    "                                 \"RR20190920\",\n",
    "                                 \"test\"], \"polka\")"
   ]
  }
 ],
 "metadata": {
  "kernelspec": {
   "display_name": "Python 3",
   "language": "python",
   "name": "python3"
  },
  "language_info": {
   "codemirror_mode": {
    "name": "ipython",
    "version": 3
   },
   "file_extension": ".py",
   "mimetype": "text/x-python",
   "name": "python",
   "nbconvert_exporter": "python",
   "pygments_lexer": "ipython3",
   "version": "3.7.3"
  }
 },
 "nbformat": 4,
 "nbformat_minor": 4
}
