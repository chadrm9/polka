{
 "cells": [
  {
   "cell_type": "code",
   "execution_count": 1,
   "metadata": {},
   "outputs": [
    {
     "name": "stderr",
     "output_type": "stream",
     "text": [
      "INFO:core:User chadrm9 authorized!\n",
      "INFO:core:Client credentialized!\n"
     ]
    }
   ],
   "source": [
    "# accum_data.ipynb - crm 2019\n",
    "# accumulate tracks dataset for use as train/test classifier data\n",
    "import sys\n",
    "import os\n",
    "import datetime\n",
    "import logging\n",
    "\n",
    "import pandas as pd\n",
    "import seaborn as sns\n",
    "\n",
    "# add pkg path\n",
    "sys.path.insert(0, os.path.dirname(os.path.abspath('../polka/polka')))\n",
    "import core\n",
    "\n",
    "# info level from notebook, debug level from CLI\n",
    "logging.basicConfig(level=os.environ.get(\"LOGLEVEL\", \"INFO\"))\n",
    "logger = logging.getLogger(\"ipynb_ad\")\n",
    "\n",
    "date_str = datetime.datetime.now().strftime(\"%Y%m%d\")\n",
    "\n",
    "# username authorization for private data\n",
    "sp = core.do_auth(\"chadrm9\")"
   ]
  },
  {
   "cell_type": "code",
   "execution_count": 2,
   "metadata": {},
   "outputs": [
    {
     "name": "stderr",
     "output_type": "stream",
     "text": [
      "INFO:core:Playlist DW20191004 created for chadrm9\n",
      "INFO:core:60 unique [60|0] tracks from 1 playlists copied to DW20191004 for chadrm9\n"
     ]
    },
    {
     "data": {
      "text/plain": [
       "'spotify:playlist:3wo4ZPKVUoMXE9c5I105ra'"
      ]
     },
     "execution_count": 2,
     "metadata": {},
     "output_type": "execute_result"
    }
   ],
   "source": [
    "# weekly copy (Discover Weekly updates every Monday)\n",
    "core.copy_tracks(sp, \"chadrm9\", [\"Discover Weekly\"], \"DW\" + date_str)"
   ]
  },
  {
   "cell_type": "code",
   "execution_count": 3,
   "metadata": {},
   "outputs": [
    {
     "name": "stderr",
     "output_type": "stream",
     "text": [
      "INFO:core:Playlist RR20191004 created for chadrm9\n",
      "INFO:core:200 unique [200|0] tracks from 1 playlists copied to RR20191004 for chadrm9\n"
     ]
    },
    {
     "data": {
      "text/plain": [
       "'spotify:playlist:2gVLASzKAI8sJ0UE8T5C2V'"
      ]
     },
     "execution_count": 3,
     "metadata": {},
     "output_type": "execute_result"
    }
   ],
   "source": [
    "# weekly copy (Release Radar updates every Friday)\n",
    "core.copy_tracks(sp, \"chadrm9\", [\"Release Radar\"], \"RR\" + date_str)"
   ]
  },
  {
   "cell_type": "code",
   "execution_count": 4,
   "metadata": {},
   "outputs": [
    {
     "name": "stderr",
     "output_type": "stream",
     "text": [
      "INFO:core:Retrieved 239 tracks in 4 public playlists for 1296225797\n",
      "INFO:User:Stored 1296225797 to 'dat/public/20191004/1296225797.npz'\n",
      "INFO:core:Retrieved 708 tracks in 21 public playlists for x4s7phb9n8c8frmj2d7hfrrce\n",
      "INFO:User:Stored x4s7phb9n8c8frmj2d7hfrrce to 'dat/public/20191004/x4s7phb9n8c8frmj2d7hfrrce.npz'\n",
      "INFO:core:Retrieved 300 tracks in 3 public playlists for dudja\n",
      "INFO:User:Stored dudja to 'dat/public/20191004/dudja.npz'\n",
      "INFO:core:Playlist test created for chadrm9\n",
      "INFO:core:780 unique [1247] tracks from 3 users copied to test for chadrm9\n"
     ]
    },
    {
     "data": {
      "text/plain": [
       "'spotify:playlist:2JWI2dsEyTjbTZ2M6vRavb'"
      ]
     },
     "execution_count": 4,
     "metadata": {},
     "output_type": "execute_result"
    }
   ],
   "source": [
    "# compile public dataset (n=780)\n",
    "data_dir = \"dat/public\"\n",
    "npz_dir = os.path.join(data_dir, date_str + \"/\")\n",
    "list_path = os.path.join(data_dir, \"users.txt\")\n",
    "user_list = core.fetch_user_list(sp, list_path, npz_dir)\n",
    "core.aggr_user_tracks(sp, \"chadrm9\", user_list, \"test\")"
   ]
  },
  {
   "cell_type": "code",
   "execution_count": 6,
   "metadata": {},
   "outputs": [
    {
     "name": "stderr",
     "output_type": "stream",
     "text": [
      "INFO:core:Playlist polka created for chadrm9\n",
      "INFO:core:1829 unique [2036|0] tracks from 16 playlists copied to polka for chadrm9\n"
     ]
    },
    {
     "data": {
      "text/plain": [
       "'spotify:playlist:1jLMdNlNnh8Occ3oqJzK8H'"
      ]
     },
     "execution_count": 6,
     "metadata": {},
     "output_type": "execute_result"
    }
   ],
   "source": [
    "# compile private dataset (n=1829)\n",
    "core.copy_tracks(sp, \"chadrm9\", [\"DW20190803\",\n",
    "                                 \"DW20190811\",\n",
    "                                 \"DW20190812\",\n",
    "                                 \"DW20190819\",\n",
    "                                 \"DW20190826\",\n",
    "                                 \"RR20190826\",\n",
    "                                 \"DW20190905\",\n",
    "                                 \"DW20190911\",\n",
    "                                 \"RR20190911\",\n",
    "                                 \"DW20190918\",\n",
    "                                 \"RR20190920\",\n",
    "                                 \"DW20190927\",\n",
    "                                 \"RR20190927\",\n",
    "                                 \"DW20191004\",\n",
    "                                 \"RR20191004\",\n",
    "                                 \"test\"], \"polka\")"
   ]
  }
 ],
 "metadata": {
  "kernelspec": {
   "display_name": "Python 3",
   "language": "python",
   "name": "python3"
  },
  "language_info": {
   "codemirror_mode": {
    "name": "ipython",
    "version": 3
   },
   "file_extension": ".py",
   "mimetype": "text/x-python",
   "name": "python",
   "nbconvert_exporter": "python",
   "pygments_lexer": "ipython3",
   "version": "3.7.3"
  }
 },
 "nbformat": 4,
 "nbformat_minor": 4
}
