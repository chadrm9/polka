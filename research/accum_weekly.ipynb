{
 "cells": [
  {
   "cell_type": "code",
   "execution_count": 1,
   "metadata": {},
   "outputs": [
    {
     "name": "stdout",
     "output_type": "stream",
     "text": [
      "\n",
      "\n",
      "            User authentication requires interaction with your\n",
      "            web browser. Once you enter your credentials and\n",
      "            give authorization, you will be redirected to\n",
      "            a url.  Paste that url you were directed to to\n",
      "            complete the authorization.\n",
      "\n",
      "        \n",
      "Opened https://accounts.spotify.com/authorize?client_id=d17e4d2c17db487397b51ae5e664bfb0&response_type=code&redirect_uri=http%3A%2F%2Flocalhost%3A8888%2Fcallback&scope=playlist-modify-private+playlist-modify-public+playlist-read-collaborative+playlist-read-private in your browser\n",
      "\n",
      "\n"
     ]
    },
    {
     "name": "stdin",
     "output_type": "stream",
     "text": [
      "Enter the URL you were redirected to:  http://localhost:8888/callback?code=AQB9iAjjXvZj-uSna27edvHw6vFNww4t_h9TaiAm9EonTxaf7u1wiDS88C1HDCbgLd-HYE0BbGcNHyW1Dv4jo8qYp080dG75LXXefpA65A_v30PGphbdxqTr1_BRmvk6xtXPzveG9gv2hmRDbNF_PWXypoM_vxzXT8aGT2GSGcxQjqo7dPsbGv68-xne48h2rvH9jiqBQ27o84LqD7nivNtzVUF4igcyYpsFf_8uQNP5iMgs1tDH8y0ZtCZiuC5qGXbP3Eu_8B-d7XTux5Yj9r3encHLqrn1HODMgqqO72ySlfmKwcO-kgES8F3uHlHNoDfA5MZYEO_qk8k\n"
     ]
    },
    {
     "name": "stdout",
     "output_type": "stream",
     "text": [
      "\n",
      "\n"
     ]
    },
    {
     "name": "stderr",
     "output_type": "stream",
     "text": [
      "INFO:core:User chadrm9 authorized!\n",
      "INFO:core:Client credentialized!\n"
     ]
    }
   ],
   "source": [
    "# accum_weekly.ipynb - crm 2019\n",
    "# accumulate Discover Weekly & Release Radar tracks for eventual use as train/test classifier data\n",
    "import sys\n",
    "import os\n",
    "import datetime\n",
    "import logging\n",
    "\n",
    "import pandas as pd\n",
    "import seaborn as sns\n",
    "\n",
    "# add pkg path\n",
    "sys.path.insert(0, os.path.dirname(os.path.abspath('../polka/polka')))\n",
    "import core\n",
    "from radaraxes import radar_factory\n",
    "\n",
    "logging.basicConfig(level=os.environ.get(\"LOGLEVEL\", \"INFO\"))\n",
    "logger = logging.getLogger(\"ipynb_aw\")\n",
    "\n",
    "date_str = datetime.datetime.now().strftime(\"%Y%m%d\")\n",
    "\n",
    "# username authorization for private data\n",
    "sp = core.do_auth(\"chadrm9\")"
   ]
  },
  {
   "cell_type": "code",
   "execution_count": 2,
   "metadata": {},
   "outputs": [
    {
     "name": "stderr",
     "output_type": "stream",
     "text": [
      "INFO:core:Playlist Discover Weekly copied to DW20190826 for chadrm9\n"
     ]
    }
   ],
   "source": [
    "# make private copy (Discover Weekly updates every Monday)\n",
    "ss_id = core.copy_playlist(sp, \"chadrm9\", \"Discover Weekly\", \"DW\" + date_str, \"spotify\")"
   ]
  },
  {
   "cell_type": "code",
   "execution_count": null,
   "metadata": {},
   "outputs": [],
   "source": [
    "# make private copy (Release Radar updates every Friday)\n",
    "ss_id = core.copy_playlist(sp, \"chadrm9\", \"Release Radar\", \"RR\" + date_str, \"spotify\")"
   ]
  }
 ],
 "metadata": {
  "kernelspec": {
   "display_name": "Python 3",
   "language": "python",
   "name": "python3"
  },
  "language_info": {
   "codemirror_mode": {
    "name": "ipython",
    "version": 3
   },
   "file_extension": ".py",
   "mimetype": "text/x-python",
   "name": "python",
   "nbconvert_exporter": "python",
   "pygments_lexer": "ipython3",
   "version": "3.7.3"
  }
 },
 "nbformat": 4,
 "nbformat_minor": 4
}
