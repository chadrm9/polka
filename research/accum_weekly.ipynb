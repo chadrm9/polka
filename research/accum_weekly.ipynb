{
 "cells": [
  {
   "cell_type": "code",
   "execution_count": 1,
   "metadata": {},
   "outputs": [
    {
     "name": "stderr",
     "output_type": "stream",
     "text": [
      "INFO:core:User chadrm9 authorized!\n",
      "INFO:core:Client credentialized!\n"
     ]
    }
   ],
   "source": [
    "# accum_weekly.ipynb - crm 2019\n",
    "# accumulate Discover Weekly & Release Radar tracks for eventual use as train/test classifier data\n",
    "import sys\n",
    "import os\n",
    "import datetime\n",
    "import logging\n",
    "\n",
    "import pandas as pd\n",
    "import seaborn as sns\n",
    "\n",
    "# add pkg path\n",
    "sys.path.insert(0, os.path.dirname(os.path.abspath('../polka/polka')))\n",
    "import core\n",
    "\n",
    "# Info level from notebook, Debug level from cli\n",
    "logging.basicConfig(level=os.environ.get(\"LOGLEVEL\", \"INFO\"))\n",
    "logger = logging.getLogger(\"ipynb_aw\")\n",
    "\n",
    "date_str = datetime.datetime.now().strftime(\"%Y%m%d\")\n",
    "\n",
    "# username authorization for private data\n",
    "sp = core.do_auth(\"chadrm9\")"
   ]
  },
  {
   "cell_type": "code",
   "execution_count": 2,
   "metadata": {},
   "outputs": [
    {
     "name": "stderr",
     "output_type": "stream",
     "text": [
      "INFO:core:Playlist DW20190911 created for chadrm9\n",
      "INFO:core:60 tracks copied to DW20190911 for chadrm9\n"
     ]
    }
   ],
   "source": [
    "# make private copy (Discover Weekly updates every Monday)\n",
    "core.copy_tracks(sp, \"chadrm9\", [\"Discover Weekly\"], \"DW\" + date_str)"
   ]
  },
  {
   "cell_type": "code",
   "execution_count": 3,
   "metadata": {},
   "outputs": [
    {
     "name": "stderr",
     "output_type": "stream",
     "text": [
      "INFO:core:Playlist RR20190911 created for chadrm9\n",
      "INFO:core:115 tracks copied to RR20190911 for chadrm9\n"
     ]
    }
   ],
   "source": [
    "# make private copy (Release Radar updates every Friday)\n",
    "core.copy_tracks(sp, \"chadrm9\", [\"Release Radar\"], \"RR\" + date_str)"
   ]
  }
 ],
 "metadata": {
  "kernelspec": {
   "display_name": "Python 3",
   "language": "python",
   "name": "python3"
  },
  "language_info": {
   "codemirror_mode": {
    "name": "ipython",
    "version": 3
   },
   "file_extension": ".py",
   "mimetype": "text/x-python",
   "name": "python",
   "nbconvert_exporter": "python",
   "pygments_lexer": "ipython3",
   "version": "3.7.3"
  }
 },
 "nbformat": 4,
 "nbformat_minor": 4
}
