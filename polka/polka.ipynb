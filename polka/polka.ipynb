{
 "cells": [
  {
   "cell_type": "code",
   "execution_count": 18,
   "metadata": {},
   "outputs": [],
   "source": [
    "# crm 2019\n",
    "import os\n",
    "import datetime\n",
    "import logging\n",
    "\n",
    "import core\n",
    "\n",
    "import pandas as pd\n",
    "import matplotlib.pyplot as plt\n",
    "import seaborn as sns"
   ]
  },
  {
   "cell_type": "code",
   "execution_count": 21,
   "metadata": {},
   "outputs": [],
   "source": [
    "sns.set(style=\"darkgrid\")\n",
    "logging.basicConfig(level=os.environ.get(\"LOGLEVEL\", \"INFO\"))\n",
    "logger = logging.getLogger(\"ipynb\")\n",
    "date_str = datetime.datetime.now().strftime(\"%Y%m%d\")\n",
    "dest_name = \"DW\" + date_str\n",
    "data_dir = \"../dat\"\n",
    "npz_dir = os.path.join(data_dir, date_str + \"/\")\n",
    "list_path = os.path.join(data_dir, \"users.txt\")"
   ]
  },
  {
   "cell_type": "code",
   "execution_count": 20,
   "metadata": {},
   "outputs": [
    {
     "name": "stderr",
     "output_type": "stream",
     "text": [
      "INFO:core:User chadrm9 authorized!\n",
      "INFO:core:Client credentialized!\n"
     ]
    }
   ],
   "source": [
    "# spotify username authorization or empty for client credentials\n",
    "sp = core.do_auth(\"chadrm9\")"
   ]
  },
  {
   "cell_type": "code",
   "execution_count": null,
   "metadata": {},
   "outputs": [],
   "source": [
    "# copy_playlist(sp, username, source_playlist_name, destination_playlist_name, owner)\n",
    "ss_id = core.copy_playlist(sp, \"chadrm9\", \"Discover Weekly\", dest_name, \"spotify\")"
   ]
  },
  {
   "cell_type": "code",
   "execution_count": 17,
   "metadata": {},
   "outputs": [
    {
     "name": "stderr",
     "output_type": "stream",
     "text": [
      "INFO:core:Loaded chadrm9 from ../dat/20190814/chadrm9.npz\n",
      "INFO:core:Loaded 1296225797 from ../dat/20190814/1296225797.npz\n",
      "INFO:core:Loaded x4s7phb9n8c8frmj2d7hfrrce from ../dat/20190814/x4s7phb9n8c8frmj2d7hfrrce.npz\n",
      "INFO:core:Loaded dudja from ../dat/20190814/dudja.npz\n"
     ]
    }
   ],
   "source": [
    "# fetch_user_list(sp, _input_username_list, output_data_dir)\n",
    "user_list = core.fetch_user_list(sp, list_path, npz_dir)"
   ]
  },
  {
   "cell_type": "code",
   "execution_count": null,
   "metadata": {},
   "outputs": [],
   "source": [
    "# print audio features of tracks for all users' playlists\n",
    "for user in user_list:\n",
    "    user.print_af()"
   ]
  }
 ],
 "metadata": {
  "kernelspec": {
   "display_name": "Python 3",
   "language": "python",
   "name": "python3"
  },
  "language_info": {
   "codemirror_mode": {
    "name": "ipython",
    "version": 3
   },
   "file_extension": ".py",
   "mimetype": "text/x-python",
   "name": "python",
   "nbconvert_exporter": "python",
   "pygments_lexer": "ipython3",
   "version": "3.7.3"
  }
 },
 "nbformat": 4,
 "nbformat_minor": 4
}
