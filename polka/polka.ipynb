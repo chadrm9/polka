{
 "cells": [
  {
   "cell_type": "code",
   "execution_count": 4,
   "metadata": {},
   "outputs": [],
   "source": [
    "import os\n",
    "import sys\n",
    "import datetime\n",
    "import logging\n",
    "\n",
    "import core\n",
    "\n",
    "logging.basicConfig(level=os.environ.get(\"LOGLEVEL\", \"INFO\"))\n",
    "logger = logging.getLogger(\"ipynb\")\n",
    "\n",
    "date_str = datetime.datetime.now().strftime(\"%Y%m%d\")\n",
    "dest_name = \"DW\" + date_str\n",
    "npz_dir = os.path.join(\"../dat\", date_str + \"/\")\n",
    "list_path = os.path.join(\"../dat\", \"users.txt\")"
   ]
  },
  {
   "cell_type": "code",
   "execution_count": 5,
   "metadata": {},
   "outputs": [
    {
     "name": "stderr",
     "output_type": "stream",
     "text": [
      "INFO:core:User chadrm9 authorized!\n",
      "INFO:core:Client credentialized!\n"
     ]
    }
   ],
   "source": [
    "sp = core.do_auth(\"chadrm9\")"
   ]
  },
  {
   "cell_type": "code",
   "execution_count": null,
   "metadata": {},
   "outputs": [],
   "source": [
    "# copy_playlist(sp, username, source_playlist_name, destination_playlist_name, owner)\n",
    "core.copy_playlist(sp, \"chadrm9\", \"Discover Weekly\", dest_name, \"spotify\")"
   ]
  },
  {
   "cell_type": "code",
   "execution_count": 8,
   "metadata": {},
   "outputs": [
    {
     "name": "stderr",
     "output_type": "stream",
     "text": [
      "INFO:core:Fetching user chadrm9\n",
      "INFO:core:Retrieved 876 tracks in 50 public playlists\n",
      "INFO:User:Stored chadrm9 to ../dat/20190814/chadrm9.npz\n",
      "INFO:core:Fetching user 1296225797\n",
      "INFO:core:Retrieved 233 tracks in 4 public playlists\n",
      "INFO:User:Stored 1296225797 to ../dat/20190814/1296225797.npz\n",
      "INFO:core:Fetching user x4s7phb9n8c8frmj2d7hfrrce\n",
      "INFO:core:Retrieved 467 tracks in 13 public playlists\n",
      "INFO:User:Stored x4s7phb9n8c8frmj2d7hfrrce to ../dat/20190814/x4s7phb9n8c8frmj2d7hfrrce.npz\n",
      "INFO:core:Fetching user dudja\n",
      "INFO:core:Retrieved 604 tracks in 8 public playlists\n",
      "INFO:User:Stored dudja to ../dat/20190814/dudja.npz\n"
     ]
    }
   ],
   "source": [
    "# fetch_user_list(sp, _input_username_list, output_data_dir)\n",
    "list = core.fetch_user_list(sp, list_path, npz_dir)"
   ]
  }
 ],
 "metadata": {
  "kernelspec": {
   "display_name": "Python 3",
   "language": "python",
   "name": "python3"
  },
  "language_info": {
   "codemirror_mode": {
    "name": "ipython",
    "version": 3
   },
   "file_extension": ".py",
   "mimetype": "text/x-python",
   "name": "python",
   "nbconvert_exporter": "python",
   "pygments_lexer": "ipython3",
   "version": "3.7.3"
  }
 },
 "nbformat": 4,
 "nbformat_minor": 4
}
